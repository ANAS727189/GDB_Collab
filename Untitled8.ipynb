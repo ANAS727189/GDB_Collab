{
  "nbformat": 4,
  "nbformat_minor": 0,
  "metadata": {
    "colab": {
      "provenance": [],
      "mount_file_id": "1zsVXatbCRnpSAyAGD32yiSXMqaxEP-l_",
      "authorship_tag": "ABX9TyOfeBp7f/tkS+LT13jZUH7R",
      "include_colab_link": true
    },
    "kernelspec": {
      "name": "python3",
      "display_name": "Python 3"
    },
    "language_info": {
      "name": "python"
    }
  },
  "cells": [
    {
      "cell_type": "markdown",
      "metadata": {
        "id": "view-in-github",
        "colab_type": "text"
      },
      "source": [
        "<a href=\"https://colab.research.google.com/github/ANAS727189/GDB_Collab/blob/main/Untitled8.ipynb\" target=\"_parent\"><img src=\"https://colab.research.google.com/assets/colab-badge.svg\" alt=\"Open In Colab\"/></a>"
      ]
    },
    {
      "cell_type": "markdown",
      "source": [],
      "metadata": {
        "id": "c7KLcHB3rnQk"
      }
    },
    {
      "cell_type": "markdown",
      "source": [
        "                                        EG101 - Assignment\n",
        "                                          NAME - Anas khan\n",
        "                                              23bcs083"
      ],
      "metadata": {
        "id": "IXQtIlO5p3Bs"
      }
    },
    {
      "cell_type": "code",
      "execution_count": 1,
      "metadata": {
        "colab": {
          "base_uri": "https://localhost:8080/"
        },
        "id": "1cqT0jb2bnTC",
        "outputId": "3a784549-90ec-4b27-8dff-a072b55c6092"
      },
      "outputs": [
        {
          "output_type": "stream",
          "name": "stdout",
          "text": [
            "Reading package lists... Done\n",
            "Building dependency tree... Done\n",
            "Reading state information... Done\n",
            "gdb is already the newest version (12.1-0ubuntu1~22.04).\n",
            "0 upgraded, 0 newly installed, 0 to remove and 24 not upgraded.\n"
          ]
        }
      ],
      "source": [
        "!apt-get install gdb\n"
      ]
    },
    {
      "cell_type": "markdown",
      "source": [
        "**This command installs gdb in the collab notebook**"
      ],
      "metadata": {
        "id": "tM7o65EWrhP3"
      }
    },
    {
      "cell_type": "markdown",
      "source": [],
      "metadata": {
        "id": "z6MPXcB2puC8"
      }
    },
    {
      "cell_type": "code",
      "source": [
        "!gdb --version\n"
      ],
      "metadata": {
        "colab": {
          "base_uri": "https://localhost:8080/"
        },
        "id": "r8p6lEuSc2jk",
        "outputId": "f92b80a5-f14b-4d42-ed82-86e00cfb99af"
      },
      "execution_count": 2,
      "outputs": [
        {
          "output_type": "stream",
          "name": "stdout",
          "text": [
            "\u001b[35;1mGNU gdb (Ubuntu 12.1-0ubuntu1~22.04) 12.1\u001b[m\n",
            "Copyright (C) 2022 Free Software Foundation, Inc.\n",
            "License GPLv3+: GNU GPL version 3 or later <http://gnu.org/licenses/gpl.html>\n",
            "This is free software: you are free to change and redistribute it.\n",
            "There is NO WARRANTY, to the extent permitted by law.\n"
          ]
        }
      ]
    },
    {
      "cell_type": "markdown",
      "source": [
        " The below program is a program implementing selection sort algorithm which states that in every ith round , ith smallest element should get its correct place."
      ],
      "metadata": {
        "id": "fiTY5sQag1HN"
      }
    },
    {
      "cell_type": "code",
      "source": [
        "%%writefile EG101-selectionsort.cpp\n",
        "#include <iostream>\n",
        "using namespace std;\n",
        "\n",
        "void fixMe(int num[], int count) {\n",
        "    int NoValues = count, maxindex, j, loopcounter;\n",
        "\n",
        "    for (loopcounter = 0; loopcounter < NoValues - 1; loopcounter++) {\n",
        "        maxindex = loopcounter;\n",
        "\n",
        "        for (j = loopcounter + 1; j < NoValues; j++) {\n",
        "            if (num[j] > num[maxindex]) {\n",
        "                maxindex = j;\n",
        "            }\n",
        "        }\n",
        "\n",
        "        int temp = num[maxindex];\n",
        "        num[maxindex] = num[loopcounter];\n",
        "        num[loopcounter] = temp;\n",
        "    }\n",
        "}\n",
        "\n",
        "int main() {\n",
        "    int n;\n",
        "    cout<<\"Enter the no of elements in array : \"<<endl;\n",
        "    cin >>n;\n",
        "    int arr[n];\n",
        "    cout<<\"Enter the elements of array : \" <<endl;\n",
        "    for(int i = 0; i<n; i++){\n",
        "      cin >> arr[i];\n",
        "    }\n",
        "    cout<<endl;\n",
        "\n",
        "    fixMe(arr, n);\n",
        "\n",
        "    cout << \"Sorted Array in Descending Order: \";\n",
        "    for (int i = 0; i < n; i++) {\n",
        "        cout << arr[i] << \" \";\n",
        "    }\n",
        "    cout << endl;\n",
        "\n",
        "    return 0;\n",
        "}\n"
      ],
      "metadata": {
        "colab": {
          "base_uri": "https://localhost:8080/"
        },
        "id": "CJG3Jl9ChX8U",
        "outputId": "d1870c7d-7c68-40b4-ae45-fc698f823844"
      },
      "execution_count": 3,
      "outputs": [
        {
          "output_type": "stream",
          "name": "stdout",
          "text": [
            "Overwriting EG101-selectionsort.cpp\n"
          ]
        }
      ]
    },
    {
      "cell_type": "code",
      "source": [
        "!g++ -g -o program EG101-selectionsort.cpp\n",
        "\n"
      ],
      "metadata": {
        "id": "7HQwpnFnjLhK"
      },
      "execution_count": 4,
      "outputs": []
    },
    {
      "cell_type": "markdown",
      "source": [
        "These are the following some commands which are useful in writing / running cpp/c program in collab :\n",
        "\n",
        "!gdb ./program_name\n",
        "\n",
        "(gdb) break line_number\n",
        "\n",
        "(gdb) run\n",
        "\n",
        "(gdb) next\n",
        "\n",
        "(gdb) print variable_name\n",
        "\n",
        "(gdb) continue\n",
        "\n",
        "!g++ -g -o program_name source_code.cpp\n",
        "\n"
      ],
      "metadata": {
        "id": "lQBgM28Rq2AC"
      }
    },
    {
      "cell_type": "code",
      "source": [
        "!gdb -ex=\"break fixMe\" -ex=\"run\" -ex=\"backtrace\" -ex=\"quit\" ./program\n",
        "\n"
      ],
      "metadata": {
        "colab": {
          "base_uri": "https://localhost:8080/"
        },
        "id": "rL95JIkNnW0S",
        "outputId": "8378fa78-5ee2-411b-a5d0-260e7c0127c6"
      },
      "execution_count": 7,
      "outputs": [
        {
          "output_type": "stream",
          "name": "stdout",
          "text": [
            "\u001b[35;1mGNU gdb (Ubuntu 12.1-0ubuntu1~22.04) 12.1\u001b[m\n",
            "Copyright (C) 2022 Free Software Foundation, Inc.\n",
            "License GPLv3+: GNU GPL version 3 or later <http://gnu.org/licenses/gpl.html>\n",
            "This is free software: you are free to change and redistribute it.\n",
            "There is NO WARRANTY, to the extent permitted by law.\n",
            "Type \"show copying\" and \"show warranty\" for details.\n",
            "This GDB was configured as \"x86_64-linux-gnu\".\n",
            "Type \"show configuration\" for configuration details.\n",
            "For bug reporting instructions, please see:\n",
            "<https://www.gnu.org/software/gdb/bugs/>.\n",
            "Find the GDB manual and other documentation resources online at:\n",
            "    <http://www.gnu.org/software/gdb/documentation/>.\n",
            "\n",
            "For help, type \"help\".\n",
            "Type \"apropos word\" to search for commands related to \"word\"...\n",
            "Reading symbols from \u001b[32m./program\u001b[m...\n",
            "Breakpoint 1 at \u001b[34m0x1218\u001b[m: file \u001b[32mEG101-selectionsort.cpp\u001b[m, line 5.\n",
            "Starting program: \u001b[32m/content/program\u001b[m \n",
            "warning: Error disabling address space randomization: Operation not permitted\n",
            "[Thread debugging using libthread_db enabled]\n",
            "Using host libthread_db library \"\u001b[32m/lib/x86_64-linux-gnu/libthread_db.so.1\u001b[m\".\n",
            "Enter the no of elements in array : \n",
            "5\n",
            "Enter the elements of array : \n",
            "12 45 50 34 100\n",
            "\n",
            "\n",
            "Breakpoint 1, \u001b[33mfixMe\u001b[m (\u001b[36mnum\u001b[m=0x7ffe4f6a2af0, \u001b[36mcount\u001b[m=5) at \u001b[32mEG101-selectionsort.cpp\u001b[m:5\n",
            "5\t    \u001b[32mint\u001b[m NoValues \u001b[31m=\u001b[m count\u001b[31m,\u001b[m maxindex\u001b[31m,\u001b[m j\u001b[31m,\u001b[m loopcounter\u001b[31m;\u001b[m\n",
            "#0  \u001b[33mfixMe\u001b[m (\u001b[36mnum\u001b[m=0x7ffe4f6a2af0, \u001b[36mcount\u001b[m=5) at \u001b[32mEG101-selectionsort.cpp\u001b[m:5\n",
            "#1  \u001b[34m0x00005d4be159149f\u001b[m in \u001b[33mmain\u001b[m () at \u001b[32mEG101-selectionsort.cpp\u001b[m:33\n",
            "\u001b[?2004hA debugging session is active.\n",
            "\n",
            "\tInferior 1 [process 18507] will be killed.\n",
            "\n",
            "Quit anyway? (y or n) n\n",
            "Not confirmed.\n",
            "\u001b[?2004h(gdb) continue\n",
            "Continuing.\n",
            "Sorted Array in Descending Order: 100 50 45 34 12 \n",
            "[Inferior 1 (process 18507) exited normally]\n",
            "\u001b[?2004h(gdb) quit\n"
          ]
        }
      ]
    }
  ]
}